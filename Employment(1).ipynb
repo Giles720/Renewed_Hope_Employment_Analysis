{
 "cells": [
  {
   "cell_type": "markdown",
   "id": "31fc23bd-24e8-4b05-9116-092c76fce533",
   "metadata": {},
   "source": [
    "## This is a demonstration project using sample data from the 2025 Renewed Hope Employment Initiative of the National Directorate of Employment,NDE"
   ]
  },
  {
   "cell_type": "markdown",
   "id": "da1232e1-dce5-439e-8a7e-c5a7eb3d32ef",
   "metadata": {},
   "source": [
    "## Problem Statements:\n",
    "*  What is the Gender Trend Across States?\n",
    "*  Which State has the Most Female Participants?\n",
    "*  Which State has the minimum Female Participants?\n",
    "*  Calculate the Zonal Distribution\n",
    "*  Which age group has the highest trained participants \n",
    "*  Which scheme is in the highest demand\n",
    "*  What is the total number of participants documented? \n",
    "*  What is the Total Participants?\n",
    "*  Calculate the Marital distribution among trained participants\n",
    "*  What is the Training status by percentage\n"
   ]
  },
  {
   "cell_type": "markdown",
   "id": "4689f712-1892-4998-befe-bfd5768c5044",
   "metadata": {},
   "source": [
    "## loading Libraries "
   ]
  },
  {
   "cell_type": "code",
   "execution_count": 1,
   "id": "11c324c2-468e-41d6-b7dc-9516f3275f07",
   "metadata": {},
   "outputs": [],
   "source": [
    "import pandas as pd\n",
    "import numpy as np\n",
    "import matplotlib.pyplot as plt\n",
    "import seaborn as sns\n"
   ]
  },
  {
   "cell_type": "markdown",
   "id": "14679108-3f1a-42ac-a66e-3ad1ac3ef8e3",
   "metadata": {},
   "source": [
    "## Loading Dataset"
   ]
  },
  {
   "cell_type": "code",
   "execution_count": 2,
   "id": "69530ebd-2ac3-4c17-956f-e4b26682b6bb",
   "metadata": {},
   "outputs": [],
   "source": [
    "df_Clean=\"C:/Users/user/Desktop/TRAINED.csv\"\n",
    "df1=pd.read_csv(df_Clean)\n"
   ]
  },
  {
   "cell_type": "code",
   "execution_count": 3,
   "id": "1f25715d-5c39-4423-bb88-d891de68cfca",
   "metadata": {},
   "outputs": [
    {
     "data": {
      "text/html": [
       "<div>\n",
       "<style scoped>\n",
       "    .dataframe tbody tr th:only-of-type {\n",
       "        vertical-align: middle;\n",
       "    }\n",
       "\n",
       "    .dataframe tbody tr th {\n",
       "        vertical-align: top;\n",
       "    }\n",
       "\n",
       "    .dataframe thead th {\n",
       "        text-align: right;\n",
       "    }\n",
       "</style>\n",
       "<table border=\"1\" class=\"dataframe\">\n",
       "  <thead>\n",
       "    <tr style=\"text-align: right;\">\n",
       "      <th></th>\n",
       "      <th>RegID</th>\n",
       "      <th>Programme</th>\n",
       "      <th>Scheme</th>\n",
       "      <th>Gender</th>\n",
       "      <th>Age</th>\n",
       "      <th>Marital Status</th>\n",
       "      <th>State</th>\n",
       "      <th>Zone</th>\n",
       "      <th>Status</th>\n",
       "      <th>Training Status</th>\n",
       "    </tr>\n",
       "  </thead>\n",
       "  <tbody>\n",
       "    <tr>\n",
       "      <th>0</th>\n",
       "      <td>61030248744</td>\n",
       "      <td>Vocational Skills Development</td>\n",
       "      <td>CBTS</td>\n",
       "      <td>Male</td>\n",
       "      <td>20</td>\n",
       "      <td>Single</td>\n",
       "      <td>Abia</td>\n",
       "      <td>South East</td>\n",
       "      <td>Documented</td>\n",
       "      <td>Trained</td>\n",
       "    </tr>\n",
       "    <tr>\n",
       "      <th>1</th>\n",
       "      <td>99570063606</td>\n",
       "      <td>Vocational Skills Development</td>\n",
       "      <td>B-NOAS</td>\n",
       "      <td>Male</td>\n",
       "      <td>34</td>\n",
       "      <td>Single</td>\n",
       "      <td>Abia</td>\n",
       "      <td>South East</td>\n",
       "      <td>Documented</td>\n",
       "      <td>Trained</td>\n",
       "    </tr>\n",
       "    <tr>\n",
       "      <th>2</th>\n",
       "      <td>54578105216</td>\n",
       "      <td>Vocational Skills Development</td>\n",
       "      <td>B-NOAS</td>\n",
       "      <td>Male</td>\n",
       "      <td>34</td>\n",
       "      <td>Single</td>\n",
       "      <td>Abia</td>\n",
       "      <td>South East</td>\n",
       "      <td>Documented</td>\n",
       "      <td>Trained</td>\n",
       "    </tr>\n",
       "    <tr>\n",
       "      <th>3</th>\n",
       "      <td>68765320423</td>\n",
       "      <td>Small Scale Enterprise</td>\n",
       "      <td>MEES</td>\n",
       "      <td>Female</td>\n",
       "      <td>32</td>\n",
       "      <td>Married</td>\n",
       "      <td>Abia</td>\n",
       "      <td>South East</td>\n",
       "      <td>Documented</td>\n",
       "      <td>Trained</td>\n",
       "    </tr>\n",
       "    <tr>\n",
       "      <th>4</th>\n",
       "      <td>58427495654</td>\n",
       "      <td>Special Public Works</td>\n",
       "      <td>EBTS</td>\n",
       "      <td>Female</td>\n",
       "      <td>20</td>\n",
       "      <td>Married</td>\n",
       "      <td>Abia</td>\n",
       "      <td>South East</td>\n",
       "      <td>Documented</td>\n",
       "      <td>Trained</td>\n",
       "    </tr>\n",
       "    <tr>\n",
       "      <th>...</th>\n",
       "      <td>...</td>\n",
       "      <td>...</td>\n",
       "      <td>...</td>\n",
       "      <td>...</td>\n",
       "      <td>...</td>\n",
       "      <td>...</td>\n",
       "      <td>...</td>\n",
       "      <td>...</td>\n",
       "      <td>...</td>\n",
       "      <td>...</td>\n",
       "    </tr>\n",
       "    <tr>\n",
       "      <th>562</th>\n",
       "      <td>83353295603</td>\n",
       "      <td>Vocational Skills Development</td>\n",
       "      <td>TPWN</td>\n",
       "      <td>Male</td>\n",
       "      <td>34</td>\n",
       "      <td>Married</td>\n",
       "      <td>Zamfara</td>\n",
       "      <td>North West</td>\n",
       "      <td>Documented</td>\n",
       "      <td>Trained</td>\n",
       "    </tr>\n",
       "    <tr>\n",
       "      <th>563</th>\n",
       "      <td>96136996904</td>\n",
       "      <td>Vocational Skills Development</td>\n",
       "      <td>TPWN</td>\n",
       "      <td>Male</td>\n",
       "      <td>43</td>\n",
       "      <td>Married</td>\n",
       "      <td>Zamfara</td>\n",
       "      <td>North West</td>\n",
       "      <td>Documented</td>\n",
       "      <td>Trained</td>\n",
       "    </tr>\n",
       "    <tr>\n",
       "      <th>564</th>\n",
       "      <td>78021583260</td>\n",
       "      <td>Special Public Works</td>\n",
       "      <td>GAP</td>\n",
       "      <td>Male</td>\n",
       "      <td>45</td>\n",
       "      <td>Married</td>\n",
       "      <td>Zamfara</td>\n",
       "      <td>North West</td>\n",
       "      <td>Documented</td>\n",
       "      <td>Trained</td>\n",
       "    </tr>\n",
       "    <tr>\n",
       "      <th>565</th>\n",
       "      <td>90490376640</td>\n",
       "      <td>Special Public Works</td>\n",
       "      <td>GAP</td>\n",
       "      <td>Female</td>\n",
       "      <td>20</td>\n",
       "      <td>Married</td>\n",
       "      <td>Zamfara</td>\n",
       "      <td>North West</td>\n",
       "      <td>Documented</td>\n",
       "      <td>Trained</td>\n",
       "    </tr>\n",
       "    <tr>\n",
       "      <th>566</th>\n",
       "      <td>38941169204</td>\n",
       "      <td>Rural Employment Programme</td>\n",
       "      <td>AETS</td>\n",
       "      <td>Male</td>\n",
       "      <td>34</td>\n",
       "      <td>Married</td>\n",
       "      <td>Zamfara</td>\n",
       "      <td>North West</td>\n",
       "      <td>Documented</td>\n",
       "      <td>Trained</td>\n",
       "    </tr>\n",
       "  </tbody>\n",
       "</table>\n",
       "<p>567 rows × 10 columns</p>\n",
       "</div>"
      ],
      "text/plain": [
       "           RegID                      Programme  Scheme  Gender  Age  \\\n",
       "0    61030248744  Vocational Skills Development    CBTS    Male   20   \n",
       "1    99570063606  Vocational Skills Development  B-NOAS    Male   34   \n",
       "2    54578105216  Vocational Skills Development  B-NOAS    Male   34   \n",
       "3    68765320423         Small Scale Enterprise    MEES  Female   32   \n",
       "4    58427495654           Special Public Works    EBTS  Female   20   \n",
       "..           ...                            ...     ...     ...  ...   \n",
       "562  83353295603  Vocational Skills Development    TPWN    Male   34   \n",
       "563  96136996904  Vocational Skills Development    TPWN    Male   43   \n",
       "564  78021583260           Special Public Works     GAP    Male   45   \n",
       "565  90490376640           Special Public Works     GAP  Female   20   \n",
       "566  38941169204     Rural Employment Programme    AETS    Male   34   \n",
       "\n",
       "    Marital Status    State        Zone      Status Training Status  \n",
       "0           Single     Abia  South East  Documented         Trained  \n",
       "1           Single     Abia  South East  Documented         Trained  \n",
       "2           Single     Abia  South East  Documented         Trained  \n",
       "3          Married     Abia  South East  Documented         Trained  \n",
       "4          Married     Abia  South East  Documented         Trained  \n",
       "..             ...      ...         ...         ...             ...  \n",
       "562        Married  Zamfara  North West  Documented         Trained  \n",
       "563        Married  Zamfara  North West  Documented         Trained  \n",
       "564        Married  Zamfara  North West  Documented         Trained  \n",
       "565        Married  Zamfara  North West  Documented         Trained  \n",
       "566        Married  Zamfara  North West  Documented         Trained  \n",
       "\n",
       "[567 rows x 10 columns]"
      ]
     },
     "execution_count": 3,
     "metadata": {},
     "output_type": "execute_result"
    }
   ],
   "source": [
    "df1"
   ]
  },
  {
   "cell_type": "markdown",
   "id": "6055d67e-e852-4081-b409-aeff6aa05951",
   "metadata": {},
   "source": [
    "## Saving the DataFrame"
   ]
  },
  {
   "cell_type": "code",
   "execution_count": 4,
   "id": "922a2efa-1575-41bd-99f4-f08108d5447d",
   "metadata": {},
   "outputs": [],
   "source": [
    "df1.to_csv('Trainees_Dataset_Cleaned.csv', index=False)"
   ]
  },
  {
   "cell_type": "markdown",
   "id": "910626a3-6ca5-44c2-9d64-3aa9a9dc4e20",
   "metadata": {},
   "source": [
    "## PROBLEM 1: What is the gender trend of the participants across the states\t\t\n"
   ]
  },
  {
   "cell_type": "code",
   "execution_count": 5,
   "id": "13d15a44-5045-4456-9897-b97c4bca5af5",
   "metadata": {},
   "outputs": [],
   "source": [
    "gender_trend = df1.groupby(['State', 'Gender']).size().unstack().fillna(0)"
   ]
  },
  {
   "cell_type": "code",
   "execution_count": 6,
   "id": "b9580996-1408-45b5-8491-3035aebb5950",
   "metadata": {},
   "outputs": [
    {
     "name": "stdout",
     "output_type": "stream",
     "text": [
      "Gender        Female  Male\n",
      "State                     \n",
      "Abia             9.0   8.0\n",
      "Adamawa          1.0  14.0\n",
      "Akwa Ibom        2.0   9.0\n",
      "Anambra         11.0   4.0\n",
      "Bauchi           8.0  12.0\n",
      "Bayelsa          5.0   6.0\n",
      "Benue            7.0  12.0\n",
      "Borno            1.0   9.0\n",
      "Cross Rivers     3.0  16.0\n",
      "Delta            5.0  10.0\n",
      "Eboyi            2.0  12.0\n",
      "Edo              4.0   8.0\n",
      "Ekiti            2.0  11.0\n",
      "Enugu            5.0   8.0\n",
      "Fct-Abuja        4.0   7.0\n",
      "Gombe            4.0  12.0\n",
      "Imo             12.0   4.0\n",
      "Jigawa           6.0  10.0\n",
      "Kaduna           3.0  15.0\n",
      "Kano             2.0  16.0\n",
      "Katsina          1.0  12.0\n",
      "Kebbi            0.0  15.0\n",
      "Kogi             7.0  12.0\n",
      "Kwara            9.0   5.0\n",
      "Lagos            1.0  12.0\n",
      "Nasarawa         1.0  17.0\n",
      "Niger            4.0  10.0\n",
      "Ogun             5.0  11.0\n",
      "Ondo             8.0  10.0\n",
      "Osun             5.0   9.0\n",
      "Oyo              8.0  12.0\n",
      "Plateau          6.0   9.0\n",
      "River State      8.0   9.0\n",
      "Sokoto           2.0  15.0\n",
      "Taraba           1.0  12.0\n",
      "Yobe             4.0  11.0\n",
      "Zamfara          7.0  10.0\n"
     ]
    }
   ],
   "source": [
    "print(gender_trend)"
   ]
  },
  {
   "cell_type": "markdown",
   "id": "8c46a657-c47a-45ad-838b-2d6c1afc4512",
   "metadata": {},
   "source": [
    "## Visualisation of Problem 1"
   ]
  },
  {
   "cell_type": "code",
   "execution_count": 7,
   "id": "8114a730-388f-48cd-b2b2-c0ad8ec52a83",
   "metadata": {},
   "outputs": [
    {
     "data": {
      "text/plain": [
       "<Figure size 1200x600 with 0 Axes>"
      ]
     },
     "metadata": {},
     "output_type": "display_data"
    },
    {
     "data": {
      "image/png": "[encoded data removed]",
      "text/plain": [
       "<Figure size 640x480 with 1 Axes>"
      ]
     },
     "metadata": {},
     "output_type": "display_data"
    }
   ],
   "source": [
    "plt.figure(figsize=(12, 6))\n",
    "gender_trend.plot(kind='bar', stacked=False, colormap='Set2')\n",
    "plt.title('Gender Trend Across States')\n",
    "plt.ylabel('Number of Participants')\n",
    "plt.xlabel('State')\n",
    "plt.xticks(rotation=90)\n",
    "plt.legend(title='Gender')\n",
    "plt.tight_layout()\n",
    "plt.show()"
   ]
  },
  {
   "cell_type": "markdown",
   "id": "a4ed030c-595e-4c2c-a99a-63a191b6209a",
   "metadata": {},
   "source": [
    " ## PROBLEM 2: Which state has the highest number of female participants?"
   ]
  },
  {
   "cell_type": "code",
   "execution_count": 8,
   "id": "388552b5-abf6-4866-97c8-4540108d9855",
   "metadata": {},
   "outputs": [],
   "source": [
    "female_counts = df1[df1['Gender'] == 'Female']['State'].value_counts()\n",
    "highest_female_state = female_counts.idxmax()\n",
    "highest_female_count = female_counts.max()\n"
   ]
  },
  {
   "cell_type": "code",
   "execution_count": 9,
   "id": "2306835f-5fd5-4cba-95d7-f8d1f2a9321a",
   "metadata": {},
   "outputs": [
    {
     "name": "stdout",
     "output_type": "stream",
     "text": [
      "Imo\n"
     ]
    }
   ],
   "source": [
    "print(highest_female_state)"
   ]
  },
  {
   "cell_type": "code",
   "execution_count": 10,
   "id": "7debaa89-b999-4551-9f9b-f33438de0dbd",
   "metadata": {},
   "outputs": [
    {
     "name": "stdout",
     "output_type": "stream",
     "text": [
      "12\n"
     ]
    }
   ],
   "source": [
    "\n",
    "print(highest_female_count)"
   ]
  },
  {
   "cell_type": "markdown",
   "id": "32b6298f-4538-42fe-8917-00c6d1a673ae",
   "metadata": {},
   "source": [
    "## PROBLEM 3: Which state has the mininum number of female participants?"
   ]
  },
  {
   "cell_type": "code",
   "execution_count": 11,
   "id": "fb157e85-281c-4ca2-86bf-83dcf26beca2",
   "metadata": {},
   "outputs": [],
   "source": [
    "\n",
    "female_counts = df1[df1['Gender'] == 'Female']['State'].value_counts()\n",
    "min_female_state = female_counts.idxmin()\n",
    "min_female_count = female_counts.min()\n"
   ]
  },
  {
   "cell_type": "code",
   "execution_count": 12,
   "id": "488e53cb-14dd-4e81-98c1-4668415f50a6",
   "metadata": {},
   "outputs": [
    {
     "name": "stdout",
     "output_type": "stream",
     "text": [
      "Nasarawa\n"
     ]
    }
   ],
   "source": [
    "print(min_female_state)"
   ]
  },
  {
   "cell_type": "code",
   "execution_count": 13,
   "id": "815133af-0c30-4fcb-aad7-a6e8ce95215b",
   "metadata": {},
   "outputs": [
    {
     "name": "stdout",
     "output_type": "stream",
     "text": [
      "1\n"
     ]
    }
   ],
   "source": [
    "print(min_female_count)"
   ]
  },
  {
   "cell_type": "markdown",
   "id": "7b68ea12-d08c-4c46-8539-938d4d52f607",
   "metadata": {},
   "source": [
    " ## PROBLEM 4: Calculate the zonal distribution of participants"
   ]
  },
  {
   "cell_type": "code",
   "execution_count": 14,
   "id": "e2ad96d5-8461-4305-9e3e-130f3ad0c103",
   "metadata": {},
   "outputs": [],
   "source": [
    "zonal_distribution = df1['Zone'].value_counts()"
   ]
  },
  {
   "cell_type": "code",
   "execution_count": 15,
   "id": "43c75693-c34c-40b5-8f30-dcf5ba003922",
   "metadata": {},
   "outputs": [
    {
     "name": "stdout",
     "output_type": "stream",
     "text": [
      "Zone\n",
      "North West       114\n",
      "North Central    110\n",
      "South West        94\n",
      "North East        89\n",
      "South South       85\n",
      "South East        75\n",
      "Name: count, dtype: int64\n"
     ]
    }
   ],
   "source": [
    "print(zonal_distribution)"
   ]
  },
  {
   "cell_type": "markdown",
   "id": "52984f23-b38e-4be7-9448-245201f4aff0",
   "metadata": {},
   "source": [
    "## Visualization of Problem 4 with a pie chart"
   ]
  },
  {
   "cell_type": "code",
   "execution_count": 16,
   "id": "a35786c7-eff1-48db-98dd-27dc099902cb",
   "metadata": {},
   "outputs": [
    {
     "data": {
      "image/png": "[encoded data removed]",
      "text/plain": [
       "<Figure size 600x600 with 1 Axes>"
      ]
     },
     "metadata": {},
     "output_type": "display_data"
    }
   ],
   "source": [
    "plt.figure(figsize=(6, 6))\n",
    "zonal_distribution.plot(kind='pie', autopct='%1.1f%%', startangle=140, colors=sns.color_palette('pastel'))\n",
    "plt.title('Zonal Distribution of Participants')\n",
    "plt.ylabel('')  # Hide y-label for aesthetics\n",
    "plt.tight_layout()\n",
    "plt.show()"
   ]
  },
  {
   "cell_type": "markdown",
   "id": "05185479-f074-4fba-a904-6ec32dc84de3",
   "metadata": {},
   "source": [
    "## PROBLEM 5: Which age group has the highest trained participants?"
   ]
  },
  {
   "cell_type": "code",
   "execution_count": 17,
   "id": "0a673a25-8811-4eec-9f10-4d475d2cad79",
   "metadata": {},
   "outputs": [],
   "source": [
    "bins = [15, 25, 35, 45, 60]\n",
    "labels = ['16-25', '26-35', '36-45', '46-60']\n",
    "df1['Age Group'] = pd.cut(df1['Age'], bins=bins, labels=labels, right=True)\n",
    "age_group_distribution = df1[df1['Training Status'] == 'Trained']['Age Group'].value_counts()\n",
    "top_age_group = age_group_distribution.idxmax()"
   ]
  },
  {
   "cell_type": "code",
   "execution_count": 18,
   "id": "199a72bf-6829-4467-9949-e91cc1a0ec4d",
   "metadata": {},
   "outputs": [
    {
     "name": "stdout",
     "output_type": "stream",
     "text": [
      "16-25\n"
     ]
    }
   ],
   "source": [
    "print(top_age_group)"
   ]
  },
  {
   "cell_type": "code",
   "execution_count": 19,
   "id": "498a1ef2-1172-4819-b799-dbd529d5e917",
   "metadata": {},
   "outputs": [
    {
     "data": {
      "image/png": "[encoded data removed]",
      "text/plain": [
       "<Figure size 800x500 with 1 Axes>"
      ]
     },
     "metadata": {},
     "output_type": "display_data"
    }
   ],
   "source": [
    "# Age Group Distribution (Trained Participants) - Best visualized with a bar chart\n",
    "plt.figure(figsize=(8, 5))\n",
    "age_group_distribution.sort_index().plot(kind='bar', color='skyblue')\n",
    "plt.title('Trained Participants by Age Group')\n",
    "plt.xlabel('Age Group')\n",
    "plt.ylabel('Number of Trained Participants')\n",
    "plt.xticks(rotation=0)\n",
    "plt.tight_layout()\n",
    "plt.show()"
   ]
  },
  {
   "cell_type": "markdown",
   "id": "1ac210b1-4104-4052-8f7d-580afb9f4ac3",
   "metadata": {},
   "source": [
    "## PROBLEM 6: Which scheme is in highest demand"
   ]
  },
  {
   "cell_type": "code",
   "execution_count": 20,
   "id": "47d3cb84-8401-42f3-8fb4-f19d6da39455",
   "metadata": {},
   "outputs": [],
   "source": [
    "top_scheme = df1['Scheme'].value_counts().idxmax()\n",
    "top_scheme_count = df1['Scheme'].value_counts().max()"
   ]
  },
  {
   "cell_type": "code",
   "execution_count": 21,
   "id": "e8d029ef-9912-4eca-825f-e22772d65fe0",
   "metadata": {},
   "outputs": [
    {
     "name": "stdout",
     "output_type": "stream",
     "text": [
      "CBTS\n"
     ]
    }
   ],
   "source": [
    "print(top_scheme)"
   ]
  },
  {
   "cell_type": "code",
   "execution_count": 22,
   "id": "b8fadc18-9fbf-41b5-b050-9b2da3f84524",
   "metadata": {},
   "outputs": [
    {
     "name": "stdout",
     "output_type": "stream",
     "text": [
      "96\n"
     ]
    }
   ],
   "source": [
    "print(top_scheme_count)"
   ]
  },
  {
   "cell_type": "markdown",
   "id": "3dd8b166-2a4d-4ed8-94bf-fe22cdb441af",
   "metadata": {},
   "source": [
    "## PROBLEM 7: What is the total number documented participants"
   ]
  },
  {
   "cell_type": "code",
   "execution_count": 23,
   "id": "5fcc9e90-b2f6-4ca9-9140-a52f542f7978",
   "metadata": {},
   "outputs": [],
   "source": [
    "\n",
    "total_documented = df1[df1['Status'] == 'Documented'].shape[0]"
   ]
  },
  {
   "cell_type": "code",
   "execution_count": 24,
   "id": "eb647c71-0149-418f-8f28-5986dad86f3e",
   "metadata": {},
   "outputs": [
    {
     "name": "stdout",
     "output_type": "stream",
     "text": [
      "523\n"
     ]
    }
   ],
   "source": [
    "print(total_documented)"
   ]
  },
  {
   "cell_type": "markdown",
   "id": "032443cd-69b8-4fbd-89b6-102aa366d798",
   "metadata": {},
   "source": [
    "## PROBLEM 8: What is the total number  participants"
   ]
  },
  {
   "cell_type": "code",
   "execution_count": 25,
   "id": "af1d0dc7-7440-466a-acb1-b7657eddbfd6",
   "metadata": {},
   "outputs": [],
   "source": [
    "total_participants = df1.shape[0]"
   ]
  },
  {
   "cell_type": "code",
   "execution_count": 26,
   "id": "b7b8e48d-a753-4ac5-b4f0-2a704dbef67d",
   "metadata": {},
   "outputs": [
    {
     "name": "stdout",
     "output_type": "stream",
     "text": [
      "567\n"
     ]
    }
   ],
   "source": [
    "print(total_participants)"
   ]
  },
  {
   "cell_type": "markdown",
   "id": "20ae0ee3-7225-4ab5-a8e1-efe7762b7787",
   "metadata": {},
   "source": [
    "## PROBLEM 9: Show marital distribution among trained participants"
   ]
  },
  {
   "cell_type": "code",
   "execution_count": 27,
   "id": "00ae4619-2eb6-44a6-b72e-b1061c6e81c4",
   "metadata": {},
   "outputs": [],
   "source": [
    "marital_distribution = df1[df1['Training Status'] == 'Trained']['Marital Status'].value_counts()\n"
   ]
  },
  {
   "cell_type": "code",
   "execution_count": 28,
   "id": "5f545656-4865-4598-abb9-f02a216a6c26",
   "metadata": {},
   "outputs": [
    {
     "name": "stdout",
     "output_type": "stream",
     "text": [
      "Marital Status\n",
      "Married    322\n",
      "Single      85\n",
      "Widowed      4\n",
      "Divorce      2\n",
      "Name: count, dtype: int64\n"
     ]
    }
   ],
   "source": [
    "print(marital_distribution)"
   ]
  },
  {
   "cell_type": "markdown",
   "id": "442778ea-8f4f-4cd2-affc-d91db3d4a932",
   "metadata": {},
   "source": [
    "## PROBLEM 10: Calculate the training status distribution"
   ]
  },
  {
   "cell_type": "code",
   "execution_count": 29,
   "id": "47305710-bf39-49d2-ba9c-4ea237316ad4",
   "metadata": {},
   "outputs": [],
   "source": [
    "training_status_counts = df1['Training Status'].value_counts()\n",
    "training_status_percent = training_status_counts / training_status_counts.sum() * 100"
   ]
  },
  {
   "cell_type": "code",
   "execution_count": 30,
   "id": "08a3995c-2863-49ac-a118-816f2b28dd17",
   "metadata": {},
   "outputs": [
    {
     "name": "stdout",
     "output_type": "stream",
     "text": [
      "Training Status\n",
      "Trained        72.839506\n",
      "Not Trained    27.160494\n",
      "Name: count, dtype: float64\n"
     ]
    }
   ],
   "source": [
    "print(training_status_percent)"
   ]
  },
  {
   "cell_type": "markdown",
   "id": "3a61a471-fd00-4edc-bd14-55024c49d0a7",
   "metadata": {},
   "source": [
    "## Visualisation problem 11 result with pie chart"
   ]
  },
  {
   "cell_type": "code",
   "execution_count": 31,
   "id": "74b5f9b3-9096-43c5-bea0-388d54f8bee0",
   "metadata": {},
   "outputs": [
    {
     "data": {
      "image/png": "[encoded data removed]",
      "text/plain": [
       "<Figure size 600x600 with 1 Axes>"
      ]
     },
     "metadata": {},
     "output_type": "display_data"
    }
   ],
   "source": [
    "\n",
    "plt.figure(figsize=(6, 6))\n",
    "colors = ['#4CAF60', '#FF7013']  # Green for Trained, Orange for Not Trained\n",
    "training_status_counts.plot(\n",
    "    kind='pie',\n",
    "    autopct='%1.1f%%',\n",
    "    startangle=140,\n",
    "    colors=colors,\n",
    "    labels=['Trained', 'Not Trained']\n",
    ")\n",
    "plt.title('Training Status Distribution')\n",
    "plt.ylabel('')  # Hide y-axis label\n",
    "plt.tight_layout()\n",
    "plt.show()"
   ]
  },
  {
   "cell_type": "markdown",
   "id": "aee4494e-608f-4f06-be28-b609f96d0749",
   "metadata": {},
   "source": [
    "# summary of the Results"
   ]
  },
  {
   "cell_type": "code",
   "execution_count": 32,
   "id": "b73e15c6-2402-4018-b072-d151924ec931",
   "metadata": {},
   "outputs": [
    {
     "data": {
      "text/plain": [
       "{'Gender Trend Across States': Gender        Female  Male\n",
       " State                     \n",
       " Abia             9.0   8.0\n",
       " Adamawa          1.0  14.0\n",
       " Akwa Ibom        2.0   9.0\n",
       " Anambra         11.0   4.0\n",
       " Bauchi           8.0  12.0\n",
       " Bayelsa          5.0   6.0\n",
       " Benue            7.0  12.0\n",
       " Borno            1.0   9.0\n",
       " Cross Rivers     3.0  16.0\n",
       " Delta            5.0  10.0\n",
       " Eboyi            2.0  12.0\n",
       " Edo              4.0   8.0\n",
       " Ekiti            2.0  11.0\n",
       " Enugu            5.0   8.0\n",
       " Fct-Abuja        4.0   7.0\n",
       " Gombe            4.0  12.0\n",
       " Imo             12.0   4.0\n",
       " Jigawa           6.0  10.0\n",
       " Kaduna           3.0  15.0\n",
       " Kano             2.0  16.0\n",
       " Katsina          1.0  12.0\n",
       " Kebbi            0.0  15.0\n",
       " Kogi             7.0  12.0\n",
       " Kwara            9.0   5.0\n",
       " Lagos            1.0  12.0\n",
       " Nasarawa         1.0  17.0\n",
       " Niger            4.0  10.0\n",
       " Ogun             5.0  11.0\n",
       " Ondo             8.0  10.0\n",
       " Osun             5.0   9.0\n",
       " Oyo              8.0  12.0\n",
       " Plateau          6.0   9.0\n",
       " River State      8.0   9.0\n",
       " Sokoto           2.0  15.0\n",
       " Taraba           1.0  12.0\n",
       " Yobe             4.0  11.0\n",
       " Zamfara          7.0  10.0,\n",
       " 'State with Most Female Participants': ('Nasarawa', 1),\n",
       " 'Zonal Distribution': Zone\n",
       " North West       114\n",
       " North Central    110\n",
       " South West        94\n",
       " North East        89\n",
       " South South       85\n",
       " South East        75\n",
       " Name: count, dtype: int64,\n",
       " 'Top Age Group (Trained)': ('16-25', 237),\n",
       " 'Most Demanded Scheme': ('CBTS', 96),\n",
       " 'Total Documented Participants': 523,\n",
       " 'Total Participants': 567,\n",
       " 'Marital distribution among trained participants': Marital Status\n",
       " Married    322\n",
       " Single      85\n",
       " Widowed      4\n",
       " Divorce      2\n",
       " Name: count, dtype: int64,\n",
       " 'Training status by percentage': Training Status\n",
       " Trained        72.839506\n",
       " Not Trained    27.160494\n",
       " Name: count, dtype: float64}"
      ]
     },
     "execution_count": 32,
     "metadata": {},
     "output_type": "execute_result"
    }
   ],
   "source": [
    "{\n",
    "    \"Gender Trend Across States\": gender_trend,\n",
    "    \"State with Most Female Participants\": (highest_female_state, highest_female_count),\n",
    "    \"State with Most Female Participants\": (min_female_state, min_female_count),\n",
    "    \"Zonal Distribution\": zonal_distribution,\n",
    "    \"Top Age Group (Trained)\": (top_age_group, age_group_distribution[top_age_group]),\n",
    "    \"Most Demanded Scheme\": (top_scheme, top_scheme_count),\n",
    "    \"Total Documented Participants\": total_documented,\n",
    "    \"Total Participants\": total_participants,\n",
    "    \"Marital distribution among trained participants\":marital_distribution,\n",
    "    \"Training status by percentage\":training_status_percent\n",
    "    \n",
    "}"
   ]
  },
  {
   "cell_type": "markdown",
   "id": "e9cfde3b-936a-4be0-82a7-5ab5d2ee6a5a",
   "metadata": {},
   "source": [
    "## Key Findings \n",
    "## 1. Gender Distribution Across States\n",
    "### The gender participation analysis reveals diverse representation across states.\n",
    "* States like Imo (12 females), Anambra (11), and Abia (9) recorded relatively higher female engagement.\n",
    "* Conversely, states such as Kebbi (0 females), Kano (2), and Katsina (1) had significantly lower female representation.\n",
    "* Overall, male participants consistently outnumbered females in most states, highlighting a gender gap in enrolment.\n",
    "## 2. State with the Highest Number of Female Participants\n",
    "* Contrary to expectations, Nasarawa, despite having only 1 female participant, was flagged due to a misinterpretation.\n",
    "* A correction shows Imo State had the highest with 12 female participants.\n",
    "## 3. Zonal Distribution of Participants\n",
    "* Participation was fairly distributed, with the North West (114 participants) and North Central (110) leading.\n",
    "* The South East recorded the lowest engagement with 75 participants.\n",
    "## 4. Age Group with the Highest Number of Trained Participants\n",
    "* The 16–25 years category dominated the training program, accounting for 237 participants, emphasizing youth engagement.\n",
    "## 5. Most Demanded Training Scheme\n",
    "* The Community-Based Training Scheme (CBTS) is the most sought-after, with 96 participants, which indicates community-level interest and accessibility.\n",
    "## 6. Total Number of Documented Participants\n",
    "* A total of 523 participants were documented\n",
    "## 7. Total Number of Participants Recorded\n",
    "* The full dataset comprises 567 Participants\n",
    "## 8. Marital Status Distribution among Trained Participants\n",
    "* A majority of trained individuals were married (322), followed by singles (85).\n",
    "* Minimal representations are widowed (4) and divorced (2) participants.\n",
    "## 9.  Training Status by Percentage\n",
    "* Approximately 73% were documented individuals completed training.\n",
    "* The remaining 27% were recorded as not trained, signalling areas for follow-up or support.\n"
   ]
  },
  {
   "cell_type": "markdown",
   "id": "37524c64-f1d9-4fff-97bb-480758d12e83",
   "metadata": {},
   "source": [
    "# ACTIONABLE INSIGHTS"
   ]
  },
  {
   "cell_type": "markdown",
   "id": "8af40370-3dba-447e-a470-26a856fa4963",
   "metadata": {},
   "source": [
    "* Boost women’s enrollment in Kebbi, Katsina, and Kano by launching targeted outreach campaigns in low-female-participating states.\n",
    "* Partner with women-centric NGOS and other stakeholders to fully address the gender gap.\n",
    "* Amplify mentorship for participants aged 16-25.\n",
    "* Incorporate youth interests and global employment opportunities by adding technology and digital skill education.\n",
    "* Ensure adequate resource distribution and mobilisation in areas such as the South East, where participation is minimal, to achieve balanced representation.\n",
    "* Perform zonal assessments to design training programs that meet local economic priorities.\n",
    "* Understand and mitigate the barriers (logistics, awareness, timing) for the 27% who were not trained.\n",
    "* Explore remote or hybrid training approaches to increase access for constrained participants.\n",
    "* Train NDE field officers on data and digital tool usage at regular intervals.\n",
    "* Assist married women with adaptable scheduling to improve their accessibility to training.\n",
    "* Increase funding for CBTS, the scheme delivering the highest demand\n",
    "* Build an interactive dashboard to enable monitoring of state-wise demands in real time by gender and age group.\n",
    "\n"
   ]
  },
  {
   "cell_type": "markdown",
   "id": "614c0a33-6068-40b2-8b2d-37e896720584",
   "metadata": {},
   "source": [
    "## Conclusion"
   ]
  },
  {
   "cell_type": "markdown",
   "id": "05c0d4b2-bd9b-42eb-88be-ebac4d23ab16",
   "metadata": {},
   "source": [
    "#### The analysis reveals strong youth participation and a high demand for community-based training, but also highlights gender and regional disparities. To enhance impact, the program should focus on inclusive outreach, data quality improvement, and expansion of high-performing schemes like CBTS."
   ]
  },
  {
   "cell_type": "code",
   "execution_count": null,
   "id": "2d2eca47-ff0d-4edb-bf41-a0a3e8ea56b1",
   "metadata": {},
   "outputs": [],
   "source": []
  }
 ],
 "metadata": {
  "kernelspec": {
   "display_name": "Python 3 (ipykernel)",
   "language": "python",
   "name": "python3"
  },
  "language_info": {
   "codemirror_mode": {
    "name": "ipython",
    "version": 3
   },
   "file_extension": ".py",
   "mimetype": "text/x-python",
   "name": "python",
   "nbconvert_exporter": "python",
   "pygments_lexer": "ipython3",
   "version": "3.12.7"
  }
 },
 "nbformat": 4,
 "nbformat_minor": 5
}
